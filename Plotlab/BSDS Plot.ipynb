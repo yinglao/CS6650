{
 "cells": [
  {
   "cell_type": "code",
   "execution_count": 1,
   "metadata": {},
   "outputs": [],
   "source": [
    "import matplotlib.pyplot as plt"
   ]
  },
  {
   "cell_type": "code",
   "execution_count": 2,
   "metadata": {},
   "outputs": [
    {
     "name": "stdout",
     "output_type": "stream",
     "text": [
      "1500\n",
      "21500\n",
      "109500\n",
      "119500\n"
     ]
    }
   ],
   "source": [
    "MAXTHREADS = 16\n",
    "\n",
    "responseTimes = []\n",
    "for factor in [0.1, 0.5, 1.0, 0.25]:\n",
    "    with open(str(MAXTHREADS) + \"threads/\" + str(int(MAXTHREADS * factor)) + \"threads.txt\") as fi:\n",
    "        t = fi.readline()\n",
    "        while t:\n",
    "            responseTimes.append(int(t))\n",
    "            t = fi.readline()\n",
    "        print(len(responseTimes))\n",
    "# print(len(responseTimes))\n",
    "    "
   ]
  },
  {
   "cell_type": "code",
   "execution_count": 3,
   "metadata": {},
   "outputs": [
    {
     "name": "stdout",
     "output_type": "stream",
     "text": [
      "[0, 0, 0, 0, 0, 0, 0, 0, 0, 0, 0, 0, 0, 0, 1, 1, 1, 1, 1, 1, 1, 1, 1, 1, 1, 1, 1, 1, 1, 1, 1, 1, 1, 1, 1, 1, 1, 1, 1, 1, 1, 1, 1, 2, 2, 2, 2, 2, 2, 2, 2, 2, 2, 2, 2, 2, 2, 2, 2, 2, 2, 2, 2, 2, 2, 2, 2, 2, 2, 2, 2, 2, 2, 3, 3, 3, 3, 3, 3, 3, 3, 3, 3, 3, 3, 3, 3, 3, 3, 3, 3, 3, 3, 3, 3, 3, 3, 3, 3]\n"
     ]
    }
   ],
   "source": [
    "TIMEINTERVAL = 1000 # ms\n",
    "responseTimes.sort()\n",
    "start = responseTimes[0]\n",
    "responseTimes = [(responseTime - start)//TIMEINTERVAL for responseTime in responseTimes]\n",
    "print(responseTimes[1:100])"
   ]
  },
  {
   "cell_type": "code",
   "execution_count": 4,
   "metadata": {},
   "outputs": [
    {
     "name": "stdout",
     "output_type": "stream",
     "text": [
      "[29, 30, 29, 32, 31, 32, 31, 32, 33, 33, 33, 32, 32, 31, 31, 32, 33, 30, 31, 32, 32, 30, 33, 31, 31, 34, 32, 32, 31, 33, 33, 31, 33, 33, 32, 30, 33, 31, 30, 30, 30, 32, 34, 32, 33, 31, 31, 233, 247, 248, 242, 239, 248, 242, 252, 248, 238, 234, 246, 239, 244, 232, 248, 241, 242, 238, 242, 242, 239, 244, 246, 246, 242, 239, 248, 246, 237, 240, 245, 241, 207, 238, 238, 241, 249, 242, 241, 241, 248, 244, 240, 237, 241, 230, 241, 242, 241, 243, 247]\n"
     ]
    },
    {
     "data": {
      "text/plain": [
       "[<matplotlib.lines.Line2D at 0x18084f6f6a0>]"
      ]
     },
     "execution_count": 4,
     "metadata": {},
     "output_type": "execute_result"
    },
    {
     "data": {
      "image/png": "[encoded data removed]",
      "text/plain": [
       "<Figure size 432x288 with 1 Axes>"
      ]
     },
     "metadata": {
      "needs_background": "light"
     },
     "output_type": "display_data"
    }
   ],
   "source": [
    "import collections\n",
    "cnt = collections.Counter(responseTimes)\n",
    "# print(cnt.keys())\n",
    "xx = list(range(max(cnt.keys()) + 1))\n",
    "yx = [0] * (max(cnt.keys()) + 1)\n",
    "for k in cnt:\n",
    "    yx[k] = cnt[k]\n",
    "print(yx[1:100])\n",
    "plt.plot(xx, yx)\n",
    "    "
   ]
  },
  {
   "cell_type": "code",
   "execution_count": null,
   "metadata": {},
   "outputs": [],
   "source": []
  }
 ],
 "metadata": {
  "kernelspec": {
   "display_name": "Python 3",
   "language": "python",
   "name": "python3"
  },
  "language_info": {
   "codemirror_mode": {
    "name": "ipython",
    "version": 3
   },
   "file_extension": ".py",
   "mimetype": "text/x-python",
   "name": "python",
   "nbconvert_exporter": "python",
   "pygments_lexer": "ipython3",
   "version": "3.7.0"
  }
 },
 "nbformat": 4,
 "nbformat_minor": 2
}
