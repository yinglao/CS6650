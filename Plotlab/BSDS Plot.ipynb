{
 "cells": [
  {
   "cell_type": "code",
   "execution_count": 1,
   "metadata": {
    "collapsed": true
   },
   "outputs": [],
   "source": [
    "import matplotlib.pyplot as plt"
   ]
  },
  {
   "cell_type": "code",
   "execution_count": 2,
   "metadata": {},
   "outputs": [
    {
     "name": "stdout",
     "output_type": "stream",
     "text": [
      "18000\n",
      "178000\n",
      "673000\n",
      "753000\n"
     ]
    }
   ],
   "source": [
    "MAXTHREADS = 128\n",
    "\n",
    "responseTimes = []\n",
    "for factor in [0.1, 0.5, 1.0, 0.25]:\n",
    "    with open(str(MAXTHREADS) + \"threads/\" + str(int(MAXTHREADS * factor)) + \"threads.txt\") as fi:\n",
    "        t = fi.readline()\n",
    "        while t:\n",
    "            responseTimes.append(int(t))\n",
    "            t = fi.readline()\n",
    "        print(len(responseTimes))\n",
    "# print(len(responseTimes))\n",
    "    "
   ]
  },
  {
   "cell_type": "code",
   "execution_count": 3,
   "metadata": {},
   "outputs": [
    {
     "name": "stdout",
     "output_type": "stream",
     "text": [
      "[0, 0, 0, 0, 0, 0, 0, 0, 0, 0, 0, 0, 0, 0, 0, 0, 0, 0, 0, 0, 0, 0, 0, 0, 0, 0, 0, 0, 0, 0, 0, 0, 0, 0, 0, 0, 0, 0, 0, 0, 0, 0, 0, 0, 0, 0, 0, 0, 0, 0, 0, 0, 0, 0, 0, 0, 0, 0, 0, 0, 0, 0, 0, 0, 0, 0, 0, 0, 0, 0, 0, 0, 0, 0, 0, 0, 0, 0, 0, 0, 0, 0, 0, 0, 0, 0, 0, 0, 0, 0, 0, 0, 0, 0, 0, 0, 0, 0, 0]\n"
     ]
    }
   ],
   "source": [
    "TIMEINTERVAL = 1000 # ms\n",
    "responseTimes.sort()\n",
    "start = responseTimes[0]\n",
    "responseTimes = [(responseTime - start)//TIMEINTERVAL for responseTime in responseTimes]\n",
    "print(responseTimes[1:100])"
   ]
  },
  {
   "cell_type": "code",
   "execution_count": 4,
   "metadata": {},
   "outputs": [
    {
     "name": "stdout",
     "output_type": "stream",
     "text": [
      "[418, 364, 368, 425, 442, 429, 436, 427, 446, 447, 380, 435, 451, 438, 454, 450, 437, 448, 434, 450, 457, 428, 454, 453, 440, 445, 431, 448, 429, 417, 426, 451, 432, 424, 437, 428, 449, 423, 441, 425, 294, 1427, 1854, 1833, 1777, 1835, 1792, 1873, 1796, 1847, 1830, 1794, 1814, 1844, 1837, 1811, 1837, 1850, 1799, 1833, 1851, 1833, 1808, 1851, 1838, 1764, 1874, 1838, 1831, 1811, 1833, 1835, 1802, 1820, 1855, 1832, 1808, 1850, 1829, 1804, 1839, 1401, 1331, 1807, 1847, 1846, 1840, 1807, 1838, 1846, 1684, 1851, 1783, 1844, 1817, 1803, 1841, 1804, 1804]\n"
     ]
    },
    {
     "data": {
      "image/png": "[encoded data removed]",
      "text/plain": [
       "<matplotlib.figure.Figure at 0x19d3f57e5f8>"
      ]
     },
     "metadata": {},
     "output_type": "display_data"
    }
   ],
   "source": [
    "import collections\n",
    "cnt = collections.Counter(responseTimes)\n",
    "# print(cnt.keys())\n",
    "xx = list(range(max(cnt.keys()) + 1))\n",
    "yx = [0] * (max(cnt.keys()) + 1)\n",
    "for k in cnt:\n",
    "    yx[k] = cnt[k]\n",
    "print(yx[1:100])\n",
    "plt.plot(xx, yx)\n",
    "# plt.ylim((0,3000))\n",
    "plt.show()"
   ]
  },
  {
   "cell_type": "code",
   "execution_count": null,
   "metadata": {
    "collapsed": true
   },
   "outputs": [],
   "source": []
  },
  {
   "cell_type": "code",
   "execution_count": null,
   "metadata": {
    "collapsed": true
   },
   "outputs": [],
   "source": []
  }
 ],
 "metadata": {
  "kernelspec": {
   "display_name": "Python 3",
   "language": "python",
   "name": "python3"
  },
  "language_info": {
   "codemirror_mode": {
    "name": "ipython",
    "version": 3
   },
   "file_extension": ".py",
   "mimetype": "text/x-python",
   "name": "python",
   "nbconvert_exporter": "python",
   "pygments_lexer": "ipython3",
   "version": "3.6.1"
  }
 },
 "nbformat": 4,
 "nbformat_minor": 2
}
