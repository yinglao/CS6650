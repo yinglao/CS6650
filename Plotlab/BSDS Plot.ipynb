{
 "cells": [
  {
   "cell_type": "code",
   "execution_count": 1,
   "metadata": {
    "collapsed": true
   },
   "outputs": [],
   "source": [
    "import matplotlib.pyplot as plt"
   ]
  },
  {
   "cell_type": "code",
   "execution_count": 2,
   "metadata": {},
   "outputs": [
    {
     "name": "stdout",
     "output_type": "stream",
     "text": [
      "9000\n",
      "89000\n",
      "155000\n",
      "195000\n"
     ]
    }
   ],
   "source": [
    "MAXTHREADS = 64\n",
    "\n",
    "responseTimes = []\n",
    "for factor in [0.1, 0.5, 1.0, 0.25]:\n",
    "    with open(str(MAXTHREADS) + \"threads/\" + str(int(MAXTHREADS * factor)) + \"threads.txt\") as fi:\n",
    "        t = fi.readline()\n",
    "        while t:\n",
    "            responseTimes.append(int(t))\n",
    "            t = fi.readline()\n",
    "        print(len(responseTimes))\n",
    "# print(len(responseTimes))\n",
    "    "
   ]
  },
  {
   "cell_type": "code",
   "execution_count": 3,
   "metadata": {},
   "outputs": [
    {
     "name": "stdout",
     "output_type": "stream",
     "text": [
      "[0, 0, 0, 0, 0, 0, 1, 1, 1, 1, 1, 1, 1, 1, 1, 1, 1, 1, 1, 1, 1, 1, 1, 1, 1, 1, 1, 1, 1, 1, 1, 1, 1, 1, 1, 1, 1, 1, 1, 1, 1, 1, 1, 1, 1, 1, 1, 1, 1, 1, 1, 1, 1, 1, 1, 1, 1, 1, 1, 1, 1, 1, 1, 1, 1, 1, 1, 1, 1, 1, 1, 1, 1, 1, 1, 1, 1, 1, 2, 2, 2, 2, 2, 2, 2, 2, 2, 2, 2, 2, 2, 2, 2, 2, 2, 2, 2, 2, 2]\n"
     ]
    }
   ],
   "source": [
    "TIMEINTERVAL = 1000 # ms\n",
    "responseTimes.sort()\n",
    "start = responseTimes[0]\n",
    "responseTimes = [(responseTime - start)//TIMEINTERVAL for responseTime in responseTimes]\n",
    "print(responseTimes[1:100])"
   ]
  },
  {
   "cell_type": "code",
   "execution_count": 4,
   "metadata": {},
   "outputs": [
    {
     "name": "stdout",
     "output_type": "stream",
     "text": [
      "[72, 90, 83, 89, 83, 72, 88, 87, 78, 88, 87, 91, 79, 91, 89, 82, 90, 89, 89, 74, 92, 89, 90, 89, 83, 89, 81, 90, 90, 80, 94, 88, 84, 84, 89, 93, 91, 87, 93, 76, 95, 84, 90, 86, 90, 89, 51, 87, 85, 87, 92, 89, 89, 74, 83, 86, 80, 86, 91, 89, 80, 88, 142, 257, 297, 321, 313, 295, 261, 256, 242, 263, 245, 203, 218, 174, 180, 109, 51, 42, 76, 67, 93, 178, 158, 96, 165, 202, 169, 213, 214, 114, 220, 233, 154, 238, 194, 165, 213]\n"
     ]
    },
    {
     "data": {
      "image/png": "[encoded data removed]",
      "text/plain": [
       "<matplotlib.figure.Figure at 0x2153dc2b4a8>"
      ]
     },
     "metadata": {},
     "output_type": "display_data"
    }
   ],
   "source": [
    "import collections\n",
    "cnt = collections.Counter(responseTimes)\n",
    "# print(cnt.keys())\n",
    "xx = list(range(max(cnt.keys()) + 1))\n",
    "yx = [0] * (max(cnt.keys()) + 1)\n",
    "for k in cnt:\n",
    "    yx[k] = cnt[k]\n",
    "print(yx[1:100])\n",
    "plt.plot(xx, yx)\n",
    "plt.show()"
   ]
  },
  {
   "cell_type": "code",
   "execution_count": null,
   "metadata": {
    "collapsed": true
   },
   "outputs": [],
   "source": []
  }
 ],
 "metadata": {
  "kernelspec": {
   "display_name": "Python 3",
   "language": "python",
   "name": "python3"
  },
  "language_info": {
   "codemirror_mode": {
    "name": "ipython",
    "version": 3
   },
   "file_extension": ".py",
   "mimetype": "text/x-python",
   "name": "python",
   "nbconvert_exporter": "python",
   "pygments_lexer": "ipython3",
   "version": "3.6.1"
  }
 },
 "nbformat": 4,
 "nbformat_minor": 2
}
